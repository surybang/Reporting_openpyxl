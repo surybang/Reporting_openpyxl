{
 "cells": [
  {
   "cell_type": "markdown",
   "id": "2a060f41",
   "metadata": {},
   "source": [
    "<center><h1> Financial Reporting <h1></center>"
   ]
  },
  {
   "cell_type": "markdown",
   "id": "85a25025",
   "metadata": {},
   "source": [
    "> Introduction \n",
    "\n",
    "> Dans ce notebook, nous allons découvrir comment \"automatiser\" la création d'un reporting financier. \n",
    "\n",
    ">Le but ici est de réussir à se familiariser avec OpenPyxl et d'essayer d'avoir un code le plus clean possible malgré que l'on soit dans notebook."
   ]
  },
  {
   "cell_type": "markdown",
   "id": "1d204457",
   "metadata": {},
   "source": [
    "### Commençons par importer les packages "
   ]
  },
  {
   "cell_type": "code",
   "execution_count": null,
   "id": "11d475cc",
   "metadata": {},
   "outputs": [],
   "source": [
    "import pandas as pd\n",
    "import openpyxl\n",
    "import numpy as np\n",
    "import matplotlib.pyplot as plt\n",
    "import seaborn as sns\n",
    "\n",
    "print(openpyxl.__version__)"
   ]
  },
  {
   "cell_type": "markdown",
   "id": "31d31fd0",
   "metadata": {},
   "source": [
    "Puis explorons les données pour nous familiariser avec "
   ]
  },
  {
   "cell_type": "code",
   "execution_count": null,
   "id": "a61770d9",
   "metadata": {},
   "outputs": [],
   "source": [
    "# Lire le fichier Excel\n"
   ]
  },
  {
   "cell_type": "markdown",
   "id": "fec59ada",
   "metadata": {},
   "source": [
    "### Inspectez les types de données"
   ]
  },
  {
   "cell_type": "code",
   "execution_count": null,
   "id": "0cbe6a49",
   "metadata": {},
   "outputs": [],
   "source": []
  },
  {
   "cell_type": "markdown",
   "id": "9ebf2f37",
   "metadata": {},
   "source": [
    "### Inspectez la présence de valeur manquantes"
   ]
  },
  {
   "cell_type": "code",
   "execution_count": null,
   "id": "7fb377d8",
   "metadata": {},
   "outputs": [],
   "source": []
  },
  {
   "cell_type": "markdown",
   "id": "43b5e55d",
   "metadata": {},
   "source": [
    "### Analysez les variables disponibles \n",
    "\n",
    "Utilisez des counts, des tableaux croisés, des graphiques ... \n",
    "\n",
    "```python\n",
    "df['type_client'].value_counts()\n",
    "pd.crosstab(df['score'], df['score_prev'])\n",
    "````\n"
   ]
  },
  {
   "cell_type": "code",
   "execution_count": null,
   "id": "1914e874",
   "metadata": {},
   "outputs": [],
   "source": []
  },
  {
   "cell_type": "markdown",
   "id": "3b9b3268",
   "metadata": {},
   "source": [
    "### Remplissage du fichier\n",
    "\n",
    "Pour remplir le fichier, nous allons créer plusieurs feuilles composées des données nécessaires à la création des indicateurs"
   ]
  },
  {
   "cell_type": "code",
   "execution_count": null,
   "id": "9acd0532",
   "metadata": {},
   "outputs": [],
   "source": [
    "from openpyxl import load_workbook\n",
    "# Créer une nouvelle feuille Excel avec openpyxl\n",
    "path_file = 'example/fichier_a_remplir.xlsx'\n",
    "\n",
    "\n",
    "with pd.ExcelWriter(path_file, mode='a') as writer:\n",
    "    df.to_excel(writer, sheet_name='DATA', index=False)"
   ]
  },
  {
   "cell_type": "markdown",
   "id": "46bc8a5d",
   "metadata": {},
   "source": [
    "Nous pouvons maintenant passer à la création des indicateurs"
   ]
  },
  {
   "cell_type": "code",
   "execution_count": null,
   "id": "d7552aca",
   "metadata": {},
   "outputs": [],
   "source": [
    "# Il faut charger en mémoire le fichier \n",
    "wb = load_workbook(path_file)\n",
    "# Puis récupérer la feuille\n",
    "ws = wb['Indicateurs']\n",
    "\n",
    "# On peut maintenant ajouter des formules\n",
    "# 1. Nombre de clients PP \n",
    "ws['E8'] = '=COUNTIF(DATA!B:B, \"PP\")'\n",
    "\n",
    "# 2. Nombre de clients PM\n",
    "ws['E9'] = '=COUNTIF(DATA!B:B, \"PM\")'\n",
    "\n",
    "wb.save(path_file)\n",
    "wb.close()"
   ]
  },
  {
   "cell_type": "markdown",
   "id": "f5e4dfa9",
   "metadata": {},
   "source": [
    "Comme vous pouvez le voir, remplir ce fichier ne sera pas un soucis, c'est très simple de copier/coller la formule X fois en l'adaptant à la question. \n",
    "\n",
    "Je vous invite à prendre un peu de recul sur ce que vous faites et à chercher s'il n'existerait pas une solution plus adapté. \n",
    "\n",
    "Indices : data structures et fonctions."
   ]
  },
  {
   "cell_type": "code",
   "execution_count": null,
   "id": "37e13fdc",
   "metadata": {},
   "outputs": [],
   "source": []
  }
 ],
 "metadata": {
  "kernelspec": {
   "display_name": ".venv",
   "language": "python",
   "name": "python3"
  },
  "language_info": {
   "codemirror_mode": {
    "name": "ipython",
    "version": 3
   },
   "file_extension": ".py",
   "mimetype": "text/x-python",
   "name": "python",
   "nbconvert_exporter": "python",
   "pygments_lexer": "ipython3",
   "version": "3.10.12"
  }
 },
 "nbformat": 4,
 "nbformat_minor": 5
}
